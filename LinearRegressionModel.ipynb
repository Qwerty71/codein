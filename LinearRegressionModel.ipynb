{
  "nbformat": 4,
  "nbformat_minor": 0,
  "metadata": {
    "colab": {
      "name": "LinearRegressionModel",
      "provenance": [],
      "include_colab_link": true
    },
    "kernelspec": {
      "name": "python3",
      "display_name": "Python 3"
    }
  },
  "cells": [
    {
      "cell_type": "markdown",
      "metadata": {
        "id": "view-in-github",
        "colab_type": "text"
      },
      "source": [
        "<a href=\"https://colab.research.google.com/github/Qwerty71/codein/blob/master/LinearRegressionModel.ipynb\" target=\"_parent\"><img src=\"https://colab.research.google.com/assets/colab-badge.svg\" alt=\"Open In Colab\"/></a>"
      ]
    },
    {
      "cell_type": "markdown",
      "metadata": {
        "id": "4awvnDB9Qc5g",
        "colab_type": "text"
      },
      "source": [
        "Qwerty71\n"
      ]
    },
    {
      "cell_type": "code",
      "metadata": {
        "id": "DbD7dy_X7UPk",
        "colab_type": "code",
        "outputId": "5eb54f4f-05e8-4013-c8e3-9c66bf7fbf9a",
        "colab": {
          "base_uri": "https://localhost:8080/",
          "height": 644
        }
      },
      "source": [
        "import numpy as np\n",
        "import tensorflow as tf\n",
        "import matplotlib.pyplot as plt\n",
        "import pandas as pd\n",
        "from sklearn.metrics import r2_score as r2\n",
        "\n",
        "from google.colab import drive\n",
        "drive.mount('/content/gdrive')\n",
        "\n",
        "plt.style.use('ggplot')\n",
        "plt.figure(figsize=(10, 5))\n",
        "\n",
        "PATH = \"/content/gdrive/My Drive/Colab Notebooks/Salary_Data.csv\"\n",
        "\n",
        "alpha = 0.109\n",
        "epochs = 200\n",
        "\n",
        "def load_data(): \n",
        "  data = pd.read_csv(PATH) \n",
        "  m = len(data) \n",
        "  x = np.array(data[data.columns[0]]).reshape((m, 1)) \n",
        "  y = np.array(data[data.columns[1]]).reshape((m, 1)) \n",
        "  return [x, y, m]\n",
        "  \n",
        "def split(x, y, trainSize): \n",
        "  length = len(x) \n",
        "  return [x[0:int(length*trainSize)], x[int(length*trainSize):length], y[0:int(length*trainSize)], y[int(length*trainSize):length]]\n",
        "\n",
        "x, y, m = load_data()\n",
        "\n",
        "x_train, x_test, y_train, y_test = split(x, y, 0.8)\n",
        "\n",
        "def model():\n",
        "  theta = tf.Variable(tf.zeros([1, 1]))\n",
        "  X = tf.placeholder(tf.float32, shape=[None, 1], name = \"x_input\")\n",
        "  Y = tf.placeholder(tf.float32, shape=[None, 1], name = \"y_input\")\n",
        "  b = tf.Variable(0.0)\n",
        "\n",
        "  model = tf.add(tf.matmul(X, theta), b)\n",
        "\n",
        "  cost = tf.reduce_sum(tf.square(Y-model))/(2*m)\n",
        "\n",
        "  optimizer = tf.train.GradientDescentOptimizer(alpha).minimize(cost)\n",
        "\n",
        "  init = tf.global_variables_initializer()\n",
        "\n",
        "  with tf.Session() as sess: \n",
        "    sess.run(init) \n",
        "    for i in range(epochs): \n",
        "      sess.run(optimizer, feed_dict={X:x_train, Y:y_train}) \n",
        "      loss = sess.run(cost, feed_dict={X:x_train, Y:y_train}) \n",
        "    theta, b = sess.run(theta), sess.run(b)\n",
        "\n",
        "  plt.plot(x, y, 'r+', label=\"True Values\")\n",
        "  plt.plot(x, theta*x+b, 'blue', label=\"Regression Line\")\n",
        "  plt.title(\"Salary vs Years of Experience\")\n",
        "  plt.legend()\n",
        "  plt.show()\n",
        "\n",
        "  print(\"Predicted Salary for 6.5 Years of Experience:\", (theta*np.array([[6.5]])+b)[0][0])\n",
        "\n",
        "  pred = theta*x+b\n",
        "  truth = np.squeeze(y > pred)\n",
        "  print(\"Greater than regression:\", np.count_nonzero(truth==True), \", Lower than regression:\", np.count_nonzero(truth==False))\n",
        "  print(\"Correlation:\", r2(y, pred))\n",
        "\n",
        "model()"
      ],
      "execution_count": 0,
      "outputs": [
        {
          "output_type": "display_data",
          "data": {
            "text/html": [
              "<p style=\"color: red;\">\n",
              "The default version of TensorFlow in Colab will soon switch to TensorFlow 2.x.<br>\n",
              "We recommend you <a href=\"https://www.tensorflow.org/guide/migrate\" target=\"_blank\">upgrade</a> now \n",
              "or ensure your notebook will continue to use TensorFlow 1.x via the <code>%tensorflow_version 1.x</code> magic:\n",
              "<a href=\"https://colab.research.google.com/notebooks/tensorflow_version.ipynb\" target=\"_blank\">more info</a>.</p>\n"
            ],
            "text/plain": [
              "<IPython.core.display.HTML object>"
            ]
          },
          "metadata": {
            "tags": []
          }
        },
        {
          "output_type": "stream",
          "text": [
            "Go to this URL in a browser: https://accounts.google.com/o/oauth2/auth?client_id=947318989803-6bn6qk8qdgf4n4g3pfee6491hc0brc4i.apps.googleusercontent.com&redirect_uri=urn%3aietf%3awg%3aoauth%3a2.0%3aoob&response_type=code&scope=email%20https%3a%2f%2fwww.googleapis.com%2fauth%2fdocs.test%20https%3a%2f%2fwww.googleapis.com%2fauth%2fdrive%20https%3a%2f%2fwww.googleapis.com%2fauth%2fdrive.photos.readonly%20https%3a%2f%2fwww.googleapis.com%2fauth%2fpeopleapi.readonly\n",
            "\n",
            "Enter your authorization code:\n",
            "··········\n",
            "Mounted at /content/gdrive\n"
          ],
          "name": "stdout"
        },
        
        {
          "output_type": "display_data",
          "data": {
            "text/plain": [
              "<Figure size 720x360 with 0 Axes>"
            ]
          },
          "metadata": {
            "tags": []
          }
        }
      ]
    }
  ]
}
